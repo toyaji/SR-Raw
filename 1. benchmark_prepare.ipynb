{
 "cells": [
  {
   "cell_type": "code",
   "execution_count": 1,
   "metadata": {},
   "outputs": [],
   "source": [
    "import cv2\n",
    "import numpy as np\n",
    "from PIL import Image\n",
    "from pathlib import Path\n",
    "from matplotlib import pyplot as plt\n",
    "from data import common"
   ]
  },
  {
   "cell_type": "code",
   "execution_count": 2,
   "metadata": {},
   "outputs": [],
   "source": [
    "def imshows(ims, figsize=None, titles=[]):\n",
    "    figsize = figsize or (len(ims) * 6, 4)\n",
    "    plt.figure(figsize=figsize)\n",
    "    for i, im in enumerate(ims):\n",
    "        plt.subplot(1, len(ims), i + 1)\n",
    "        plt.imshow(im)\n",
    "        if len(titles) > i:\n",
    "            plt.title(titles[i])\n",
    "    plt.tight_layout()\n",
    "    plt.show()"
   ]
  },
  {
   "cell_type": "code",
   "execution_count": 3,
   "metadata": {},
   "outputs": [],
   "source": [
    "base = Path(\"dataset/benchmark\")"
   ]
  },
  {
   "cell_type": "code",
   "execution_count": 4,
   "metadata": {},
   "outputs": [
    {
     "data": {
      "text/plain": [
       "[WindowsPath('dataset/benchmark/BSD100'),\n",
       " WindowsPath('dataset/benchmark/Manga109'),\n",
       " WindowsPath('dataset/benchmark/Set14'),\n",
       " WindowsPath('dataset/benchmark/Set5'),\n",
       " WindowsPath('dataset/benchmark/Urban100')]"
      ]
     },
     "execution_count": 4,
     "metadata": {},
     "output_type": "execute_result"
    }
   ],
   "source": [
    "list(base.glob(\"*\"))"
   ]
  },
  {
   "cell_type": "markdown",
   "metadata": {},
   "source": [
    "First, we need to crop the HR image into the size having a common multiplier of 2, 3, 4. If you don't adjust HR into this way it is hard to make pixel to pixel matching of HR-LR pair for all resized images of x2, x3, x4."
   ]
  },
  {
   "cell_type": "code",
   "execution_count": 5,
   "metadata": {},
   "outputs": [
    {
     "name": "stdout",
     "output_type": "stream",
     "text": [
      "BSD100 HR 'NoneType' object has no attribute 'shape'\n",
      "Manga109 HR 'NoneType' object has no attribute 'shape'\n",
      "Set14 HR 'NoneType' object has no attribute 'shape'\n",
      "Set5 HR 'NoneType' object has no attribute 'shape'\n",
      "Urban100 HR 'NoneType' object has no attribute 'shape'\n"
     ]
    }
   ],
   "source": [
    "for data in base.glob(\"*\"):\n",
    "\n",
    "    save_path = data / \"HR\"\n",
    "    save_path.mkdir(exist_ok=True)\n",
    "\n",
    "\n",
    "    for p in data.glob(\"*\"):\n",
    "        try:\n",
    "            img = cv2.imread(str(p))\n",
    "            h, w, c = img.shape\n",
    "\n",
    "            ix, iy = int(h/12) * 6, int(w/12) * 6\n",
    "            cx, cy = int(h/2), int(w/2)\n",
    "            img = img[cx - ix:cx + ix, cy - iy:cy + iy, :]\n",
    "\n",
    "            cv2.imwrite(str(save_path / p.name), img)\n",
    "        except Exception as e:\n",
    "            print(data.name, p.name, e)\n",
    "        finally:\n",
    "            pass"
   ]
  },
  {
   "cell_type": "code",
   "execution_count": 17,
   "metadata": {},
   "outputs": [],
   "source": [
    "for data in (base).glob(\"*\"):\n",
    "    \n",
    "    source_path = data / \"HR\"\n",
    "    save_path = data / \"LR_bicubic\"\n",
    "    save_path.mkdir(exist_ok=True)\n",
    "\n",
    "\n",
    "    for p in source_path.glob(\"*\"):\n",
    "        try:\n",
    "            img = cv2.imread(str(p))\n",
    "            h, w, c = img.shape\n",
    "\n",
    "            for scale in [2, 3, 4]:\n",
    "                ch, cw = int(h/scale), int(w/scale)\n",
    "                assert ch*scale == h and ch*scale == h, \"Scale error!\"\n",
    "                img = cv2.resize(img, dsize=(cw, ch), interpolation=cv2.INTER_CUBIC)\n",
    "\n",
    "                target_path = save_path / \"x{:1d}\".format(scale)\n",
    "                target_path.mkdir(exist_ok=True)\n",
    "                name = target_path / \"{}x{:1d}{}\".format(p.stem, scale, p.suffix)\n",
    "                cv2.imwrite(str(name), img)\n",
    "        except Exception as e:\n",
    "            print(data.name, p.name, e)\n",
    "        finally:\n",
    "            pass"
   ]
  },
  {
   "cell_type": "markdown",
   "metadata": {},
   "source": [
    "Let's check benchmark dataset's rgb_range. It's is helpful for dataloader setting"
   ]
  },
  {
   "cell_type": "code",
   "execution_count": 16,
   "metadata": {},
   "outputs": [
    {
     "name": "stdout",
     "output_type": "stream",
     "text": [
      "BSD100     has 3 color channel and rgb range max is 255. File extention is .png.\n",
      "Manga109   has 3 color channel and rgb range max is 255. File extention is .png.\n",
      "Set14      has 3 color channel and rgb range max is 255. File extention is .png.\n",
      "Set5       has 3 color channel and rgb range max is 255. File extention is .png.\n",
      "Urban100   has 3 color channel and rgb range max is 255. File extention is .png.\n"
     ]
    }
   ],
   "source": [
    "for data in base.glob(\"*\"):\n",
    "    path = list((data / \"HR\").glob(\"*\"))[0]\n",
    "    img = cv2.imread(str(path))\n",
    "    rgb_range = 255 if img.max() > 230 else 1\n",
    "    print(\"{:10s} has {} color channel and rgb range max is {}. File extention is {}.\".format(data.name, img.shape[-1], rgb_range, path.suffix))"
   ]
  },
  {
   "cell_type": "markdown",
   "metadata": {},
   "source": [
    "Following lines for BSD500 data prepare"
   ]
  },
  {
   "cell_type": "code",
   "execution_count": 18,
   "metadata": {},
   "outputs": [
    {
     "data": {
      "text/plain": [
       "True"
      ]
     },
     "execution_count": 18,
     "metadata": {},
     "output_type": "execute_result"
    }
   ],
   "source": [
    "base = Path(\"dataset/BSD500\")\n",
    "base.exists()"
   ]
  },
  {
   "cell_type": "code",
   "execution_count": 19,
   "metadata": {},
   "outputs": [],
   "source": [
    "for data in base.glob(\"*\"):\n",
    "\n",
    "    save_path = data / \"HR\"\n",
    "    save_path.mkdir(exist_ok=True)\n",
    "\n",
    "\n",
    "    for p in data.glob(\"*.JPG\"):\n",
    "        try:\n",
    "            img = cv2.imread(str(p))\n",
    "            h, w, c = img.shape\n",
    "\n",
    "            ix, iy = int(h/12) * 6, int(w/12) * 6\n",
    "            cx, cy = int(h/2), int(w/2)\n",
    "            img = img[cx - ix:cx + ix, cy - iy:cy + iy, :]\n",
    "\n",
    "            cv2.imwrite(str(save_path / p.name), img)\n",
    "        except Exception as e:\n",
    "            print(data.name, p.name, e)\n",
    "        finally:\n",
    "            pass"
   ]
  },
  {
   "cell_type": "code",
   "execution_count": 20,
   "metadata": {},
   "outputs": [],
   "source": [
    "for data in base.glob(\"*\"):\n",
    "    \n",
    "    source_path = data / \"HR\"\n",
    "    save_path = data / \"LR_bicubic\"\n",
    "    save_path.mkdir(exist_ok=True)\n",
    "\n",
    "\n",
    "    for p in source_path.glob(\"*.JPG\"):\n",
    "        try:\n",
    "            img = cv2.imread(str(p))\n",
    "            h, w, c = img.shape\n",
    "\n",
    "            for scale in [2, 3, 4]:\n",
    "                ch, cw = int(h/scale), int(w/scale)\n",
    "                assert ch*scale == h and ch*scale == h, \"Scale error!\"\n",
    "                img = cv2.resize(img, dsize=(cw, ch), interpolation=cv2.INTER_CUBIC)\n",
    "\n",
    "                target_path = save_path / \"x{:1d}\".format(scale)\n",
    "                target_path.mkdir(exist_ok=True)\n",
    "                name = target_path / \"{}x{:1d}{}\".format(p.stem, scale, p.suffix)\n",
    "                cv2.imwrite(str(name), img)\n",
    "        except Exception as e:\n",
    "            print(data.name, p.name, e)\n",
    "        finally:\n",
    "            pass"
   ]
  },
  {
   "cell_type": "code",
   "execution_count": null,
   "metadata": {},
   "outputs": [],
   "source": []
  }
 ],
 "metadata": {
  "interpreter": {
   "hash": "86cf0c17263c0cdfb626d628ff47d5f3458b98a9629a3fad50c59b4bc88611f6"
  },
  "kernelspec": {
   "display_name": "Python 3.8.0 64-bit ('torch_han': conda)",
   "name": "python3"
  },
  "language_info": {
   "codemirror_mode": {
    "name": "ipython",
    "version": 3
   },
   "file_extension": ".py",
   "mimetype": "text/x-python",
   "name": "python",
   "nbconvert_exporter": "python",
   "pygments_lexer": "ipython3",
   "version": "3.8.0"
  },
  "orig_nbformat": 4
 },
 "nbformat": 4,
 "nbformat_minor": 2
}
